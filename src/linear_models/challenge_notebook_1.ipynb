{
 "cells": [
  {
   "cell_type": "code",
   "execution_count": 1,
   "metadata": {},
   "outputs": [],
   "source": [
    "import statsmodels.api as sm\n",
    "\n",
    "import matplotlib.pyplot as plt\n",
    "import seaborn as sns\n",
    "\n",
    "import numpy as np\n",
    "import pandas as pd\n",
    "\n",
    "from sklearn.preprocessing import MinMaxScaler\n",
    "from sklearn.preprocessing import StandardScaler\n",
    "import shap"
   ]
  },
  {
   "cell_type": "code",
   "execution_count": 2,
   "metadata": {},
   "outputs": [
    {
     "name": "stdout",
     "output_type": "stream",
     "text": [
      "152 304 304\n"
     ]
    }
   ],
   "source": [
    "# fetch dataset \n",
    "credit_score = pd.read_csv(\"../../data/credit_score.csv\")\n",
    "credit_score['R_EXPENDITURE_SQR'] = credit_score['R_EXPENDITURE']**2\n",
    "\n",
    "# data (as pandas dataframes) \n",
    "X = credit_score[['INCOME','R_DEBT_INCOME','R_EXPENDITURE','R_EXPENDITURE_SQR','R_EXPENDITURE_SAVINGS','R_ENTERTAINMENT','CAT_GAMBLING']].copy()\n",
    "\n",
    "# one-hot encoding\n",
    "X['GAMBLING_LOW'] = X['CAT_GAMBLING'].apply(lambda x: 1 if x == 'Low' else 0)\n",
    "X['GAMBLING_HIGH']  = X['CAT_GAMBLING'].apply(lambda x: 1 if x == 'High' else 0)\n",
    "X.drop(columns=['CAT_GAMBLING'], inplace=True)\n",
    "\n",
    "y = credit_score['DEFAULT']\n",
    "\n",
    "# get a balanced dataset\n",
    "n = np.sum(y)\n",
    "X = pd.concat([X[y==1],X[y==0].sample(n=n, random_state=0)])\n",
    "y = pd.concat([y[y==1],y[y==0].sample(n=n, random_state=0)])\n",
    "\n",
    "print(n,len(X),len(y))\n"
   ]
  },
  {
   "cell_type": "code",
   "execution_count": 3,
   "metadata": {},
   "outputs": [
    {
     "name": "stdout",
     "output_type": "stream",
     "text": [
      "Optimization terminated successfully.\n",
      "         Current function value: 0.570557\n",
      "         Iterations 6\n"
     ]
    },
    {
     "data": {
      "text/html": [
       "<table class=\"simpletable\">\n",
       "<caption>Logit Regression Results</caption>\n",
       "<tr>\n",
       "  <th>Dep. Variable:</th>        <td>DEFAULT</td>     <th>  No. Observations:  </th>  <td>   304</td>  \n",
       "</tr>\n",
       "<tr>\n",
       "  <th>Model:</th>                 <td>Logit</td>      <th>  Df Residuals:      </th>  <td>   296</td>  \n",
       "</tr>\n",
       "<tr>\n",
       "  <th>Method:</th>                 <td>MLE</td>       <th>  Df Model:          </th>  <td>     7</td>  \n",
       "</tr>\n",
       "<tr>\n",
       "  <th>Date:</th>            <td>Tue, 24 Oct 2023</td> <th>  Pseudo R-squ.:     </th>  <td>0.1769</td>  \n",
       "</tr>\n",
       "<tr>\n",
       "  <th>Time:</th>                <td>12:36:23</td>     <th>  Log-Likelihood:    </th> <td> -173.45</td> \n",
       "</tr>\n",
       "<tr>\n",
       "  <th>converged:</th>             <td>True</td>       <th>  LL-Null:           </th> <td> -210.72</td> \n",
       "</tr>\n",
       "<tr>\n",
       "  <th>Covariance Type:</th>     <td>nonrobust</td>    <th>  LLR p-value:       </th> <td>1.782e-13</td>\n",
       "</tr>\n",
       "</table>\n",
       "<table class=\"simpletable\">\n",
       "<tr>\n",
       "            <td></td>               <th>coef</th>     <th>std err</th>      <th>z</th>      <th>P>|z|</th>  <th>[0.025</th>    <th>0.975]</th>  \n",
       "</tr>\n",
       "<tr>\n",
       "  <th>INCOME</th>                <td> -3.14e-06</td> <td> 1.35e-06</td> <td>   -2.326</td> <td> 0.020</td> <td>-5.79e-06</td> <td>-4.94e-07</td>\n",
       "</tr>\n",
       "<tr>\n",
       "  <th>R_DEBT_INCOME</th>         <td>    0.1334</td> <td>    0.026</td> <td>    5.212</td> <td> 0.000</td> <td>    0.083</td> <td>    0.184</td>\n",
       "</tr>\n",
       "<tr>\n",
       "  <th>R_EXPENDITURE</th>         <td>  -14.1720</td> <td>    4.719</td> <td>   -3.003</td> <td> 0.003</td> <td>  -23.421</td> <td>   -4.923</td>\n",
       "</tr>\n",
       "<tr>\n",
       "  <th>R_EXPENDITURE_SQR</th>     <td>   18.8127</td> <td>    5.291</td> <td>    3.556</td> <td> 0.000</td> <td>    8.443</td> <td>   29.182</td>\n",
       "</tr>\n",
       "<tr>\n",
       "  <th>R_EXPENDITURE_SAVINGS</th> <td>    0.2304</td> <td>    0.075</td> <td>    3.070</td> <td> 0.002</td> <td>    0.083</td> <td>    0.377</td>\n",
       "</tr>\n",
       "<tr>\n",
       "  <th>R_ENTERTAINMENT</th>       <td>    1.9536</td> <td>    1.963</td> <td>    0.995</td> <td> 0.320</td> <td>   -1.894</td> <td>    5.801</td>\n",
       "</tr>\n",
       "<tr>\n",
       "  <th>GAMBLING_LOW</th>          <td>    0.2502</td> <td>    0.442</td> <td>    0.566</td> <td> 0.572</td> <td>   -0.617</td> <td>    1.117</td>\n",
       "</tr>\n",
       "<tr>\n",
       "  <th>GAMBLING_HIGH</th>         <td>    0.5603</td> <td>    0.309</td> <td>    1.815</td> <td> 0.070</td> <td>   -0.045</td> <td>    1.165</td>\n",
       "</tr>\n",
       "</table>"
      ],
      "text/latex": [
       "\\begin{center}\n",
       "\\begin{tabular}{lclc}\n",
       "\\toprule\n",
       "\\textbf{Dep. Variable:}          &     DEFAULT      & \\textbf{  No. Observations:  } &      304    \\\\\n",
       "\\textbf{Model:}                  &      Logit       & \\textbf{  Df Residuals:      } &      296    \\\\\n",
       "\\textbf{Method:}                 &       MLE        & \\textbf{  Df Model:          } &        7    \\\\\n",
       "\\textbf{Date:}                   & Tue, 24 Oct 2023 & \\textbf{  Pseudo R-squ.:     } &   0.1769    \\\\\n",
       "\\textbf{Time:}                   &     12:36:23     & \\textbf{  Log-Likelihood:    } &   -173.45   \\\\\n",
       "\\textbf{converged:}              &       True       & \\textbf{  LL-Null:           } &   -210.72   \\\\\n",
       "\\textbf{Covariance Type:}        &    nonrobust     & \\textbf{  LLR p-value:       } & 1.782e-13   \\\\\n",
       "\\bottomrule\n",
       "\\end{tabular}\n",
       "\\begin{tabular}{lcccccc}\n",
       "                                 & \\textbf{coef} & \\textbf{std err} & \\textbf{z} & \\textbf{P$> |$z$|$} & \\textbf{[0.025} & \\textbf{0.975]}  \\\\\n",
       "\\midrule\n",
       "\\textbf{INCOME}                  &    -3.14e-06  &     1.35e-06     &    -2.326  &         0.020        &    -5.79e-06    &    -4.94e-07     \\\\\n",
       "\\textbf{R\\_DEBT\\_INCOME}         &       0.1334  &        0.026     &     5.212  &         0.000        &        0.083    &        0.184     \\\\\n",
       "\\textbf{R\\_EXPENDITURE}          &     -14.1720  &        4.719     &    -3.003  &         0.003        &      -23.421    &       -4.923     \\\\\n",
       "\\textbf{R\\_EXPENDITURE\\_SQR}     &      18.8127  &        5.291     &     3.556  &         0.000        &        8.443    &       29.182     \\\\\n",
       "\\textbf{R\\_EXPENDITURE\\_SAVINGS} &       0.2304  &        0.075     &     3.070  &         0.002        &        0.083    &        0.377     \\\\\n",
       "\\textbf{R\\_ENTERTAINMENT}        &       1.9536  &        1.963     &     0.995  &         0.320        &       -1.894    &        5.801     \\\\\n",
       "\\textbf{GAMBLING\\_LOW}           &       0.2502  &        0.442     &     0.566  &         0.572        &       -0.617    &        1.117     \\\\\n",
       "\\textbf{GAMBLING\\_HIGH}          &       0.5603  &        0.309     &     1.815  &         0.070        &       -0.045    &        1.165     \\\\\n",
       "\\bottomrule\n",
       "\\end{tabular}\n",
       "%\\caption{Logit Regression Results}\n",
       "\\end{center}"
      ],
      "text/plain": [
       "<class 'statsmodels.iolib.summary.Summary'>\n",
       "\"\"\"\n",
       "                           Logit Regression Results                           \n",
       "==============================================================================\n",
       "Dep. Variable:                DEFAULT   No. Observations:                  304\n",
       "Model:                          Logit   Df Residuals:                      296\n",
       "Method:                           MLE   Df Model:                            7\n",
       "Date:                Tue, 24 Oct 2023   Pseudo R-squ.:                  0.1769\n",
       "Time:                        12:36:23   Log-Likelihood:                -173.45\n",
       "converged:                       True   LL-Null:                       -210.72\n",
       "Covariance Type:            nonrobust   LLR p-value:                 1.782e-13\n",
       "=========================================================================================\n",
       "                            coef    std err          z      P>|z|      [0.025      0.975]\n",
       "-----------------------------------------------------------------------------------------\n",
       "INCOME                 -3.14e-06   1.35e-06     -2.326      0.020   -5.79e-06   -4.94e-07\n",
       "R_DEBT_INCOME             0.1334      0.026      5.212      0.000       0.083       0.184\n",
       "R_EXPENDITURE           -14.1720      4.719     -3.003      0.003     -23.421      -4.923\n",
       "R_EXPENDITURE_SQR        18.8127      5.291      3.556      0.000       8.443      29.182\n",
       "R_EXPENDITURE_SAVINGS     0.2304      0.075      3.070      0.002       0.083       0.377\n",
       "R_ENTERTAINMENT           1.9536      1.963      0.995      0.320      -1.894       5.801\n",
       "GAMBLING_LOW              0.2502      0.442      0.566      0.572      -0.617       1.117\n",
       "GAMBLING_HIGH             0.5603      0.309      1.815      0.070      -0.045       1.165\n",
       "=========================================================================================\n",
       "\"\"\""
      ]
     },
     "execution_count": 3,
     "metadata": {},
     "output_type": "execute_result"
    }
   ],
   "source": [
    "# fit model\n",
    "model = sm.Logit(y, X).fit()\n",
    "model.summary()"
   ]
  },
  {
   "cell_type": "code",
   "execution_count": 4,
   "metadata": {},
   "outputs": [
    {
     "name": "stdout",
     "output_type": "stream",
     "text": [
      "Model accuracy:  0.694078947368421\n"
     ]
    },
    {
     "data": {
      "text/html": [
       "<div>\n",
       "<style scoped>\n",
       "    .dataframe tbody tr th:only-of-type {\n",
       "        vertical-align: middle;\n",
       "    }\n",
       "\n",
       "    .dataframe tbody tr th {\n",
       "        vertical-align: top;\n",
       "    }\n",
       "\n",
       "    .dataframe thead th {\n",
       "        text-align: right;\n",
       "    }\n",
       "</style>\n",
       "<table border=\"1\" class=\"dataframe\">\n",
       "  <thead>\n",
       "    <tr style=\"text-align: right;\">\n",
       "      <th>Actual</th>\n",
       "      <th>0</th>\n",
       "      <th>1</th>\n",
       "    </tr>\n",
       "    <tr>\n",
       "      <th>Predicted</th>\n",
       "      <th></th>\n",
       "      <th></th>\n",
       "    </tr>\n",
       "  </thead>\n",
       "  <tbody>\n",
       "    <tr>\n",
       "      <th>0</th>\n",
       "      <td>112</td>\n",
       "      <td>53</td>\n",
       "    </tr>\n",
       "    <tr>\n",
       "      <th>1</th>\n",
       "      <td>40</td>\n",
       "      <td>99</td>\n",
       "    </tr>\n",
       "  </tbody>\n",
       "</table>\n",
       "</div>"
      ],
      "text/plain": [
       "Actual       0   1\n",
       "Predicted         \n",
       "0          112  53\n",
       "1           40  99"
      ]
     },
     "execution_count": 4,
     "metadata": {},
     "output_type": "execute_result"
    }
   ],
   "source": [
    "# calculate model accuracy\n",
    "model_pred = model.predict(X)\n",
    "model_pred = model_pred.apply(lambda x: 1 if x > 0.5 else 0)\n",
    "model_accuracy = np.mean(model_pred == y)\n",
    "print(\"Model accuracy: \", model_accuracy)\n",
    "\n",
    "# model confusion matrix\n",
    "model_cm = pd.crosstab(model_pred, y, rownames=['Predicted'], colnames=['Actual'])\n",
    "model_cm\n"
   ]
  }
 ],
 "metadata": {
  "kernelspec": {
   "display_name": "xai",
   "language": "python",
   "name": "xai"
  },
  "language_info": {
   "codemirror_mode": {
    "name": "ipython",
    "version": 3
   },
   "file_extension": ".py",
   "mimetype": "text/x-python",
   "name": "python",
   "nbconvert_exporter": "python",
   "pygments_lexer": "ipython3",
   "version": "3.9.12"
  },
  "orig_nbformat": 4
 },
 "nbformat": 4,
 "nbformat_minor": 2
}
