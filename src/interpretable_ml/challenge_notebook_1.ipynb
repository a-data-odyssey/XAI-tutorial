{
 "cells": [
  {
   "cell_type": "code",
   "execution_count": null,
   "metadata": {},
   "outputs": [],
   "source": [
    "# fetch dataset \n",
    "credit_score = pd.read_csv(\"../../data/credit_score.csv\")\n",
    "credit_score['R_EXPENDITURE_SQR'] = credit_score['R_EXPENDITURE']**2\n",
    "\n",
    "# data (as pandas dataframes) \n",
    "X = credit_score[['INCOME','R_DEBT_INCOME','R_EXPENDITURE','R_EXPENDITURE_SQR','R_EXPENDITURE_SAVINGS','R_ENTERTAINMENT','CAT_GAMBLING']].copy()\n",
    "\n",
    "# one-hot encoding\n",
    "X['GAMBLING_LOW'] = X['CAT_GAMBLING'].apply(lambda x: 1 if x == 'Low' else 0)\n",
    "X['GAMBLING_HIGH']  = X['CAT_GAMBLING'].apply(lambda x: 1 if x == 'High' else 0)\n",
    "X.drop(columns=['CAT_GAMBLING'], inplace=True)\n",
    "\n",
    "y = credit_score['DEFAULT']\n",
    "\n",
    "# get a balanced dataset\n",
    "n = np.sum(y)\n",
    "X = pd.concat([X[y==1],X[y==0].sample(n=n, random_state=0)])\n",
    "y = pd.concat([y[y==1],y[y==0].sample(n=n, random_state=0)])\n",
    "\n",
    "print(n,len(X),len(y))\n"
   ]
  },
  {
   "cell_type": "code",
   "execution_count": null,
   "metadata": {},
   "outputs": [],
   "source": [
    "# fit model\n",
    "model = sm.Logit(y, X).fit()\n",
    "model.summary()"
   ]
  },
  {
   "cell_type": "code",
   "execution_count": null,
   "metadata": {},
   "outputs": [],
   "source": [
    "# calculate model accuracy\n",
    "model_pred = model.predict(X)\n",
    "model_pred = model_pred.apply(lambda x: 1 if x > 0.5 else 0)\n",
    "model_accuracy = np.mean(model_pred == y)\n",
    "print(\"Model accuracy: \", model_accuracy)\n",
    "\n",
    "# model confusion matrix\n",
    "model_cm = pd.crosstab(model_pred, y, rownames=['Predicted'], colnames=['Actual'])\n",
    "model_cm\n"
   ]
  }
 ],
 "metadata": {
  "language_info": {
   "name": "python"
  },
  "orig_nbformat": 4
 },
 "nbformat": 4,
 "nbformat_minor": 2
}
